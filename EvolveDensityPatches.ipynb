{
  "nbformat": 4,
  "nbformat_minor": 0,
  "metadata": {
    "colab": {
      "provenance": [],
      "authorship_tag": "ABX9TyNJcEwY7KDUdsZx70BH+jvg",
      "include_colab_link": true
    },
    "kernelspec": {
      "name": "python3",
      "display_name": "Python 3"
    },
    "language_info": {
      "name": "python"
    }
  },
  "cells": [
    {
      "cell_type": "markdown",
      "metadata": {
        "id": "view-in-github",
        "colab_type": "text"
      },
      "source": [
        "<a href=\"https://colab.research.google.com/github/chrisdemario/Evolve/blob/main/EvolveDensityPatches.ipynb\" target=\"_parent\"><img src=\"https://colab.research.google.com/assets/colab-badge.svg\" alt=\"Open In Colab\"/></a>"
      ]
    },
    {
      "cell_type": "code",
      "execution_count": 8,
      "metadata": {
        "colab": {
          "base_uri": "https://localhost:8080/",
          "height": 139
        },
        "id": "EXVcrZi2mFJE",
        "outputId": "251ff909-2073-486e-a2a2-b7cfc9271f70"
      },
      "outputs": [
        {
          "output_type": "stream",
          "name": "stdout",
          "text": [
            "Saved /content/DensityPatches/layer_1.png\n",
            "Saved /content/DensityPatches/layer_2.png\n",
            "Saved /content/DensityPatches/layer_3.png\n",
            "Saved /content/DensityPatches/1.prt\n",
            "Saved /content/DensityPatches/2.prt\n",
            "Saved /content/DensityPatches/3.prt\n",
            "Created zip archive at /content/DensityPatches.zip\n"
          ]
        },
        {
          "output_type": "display_data",
          "data": {
            "text/plain": [
              "<IPython.core.display.Javascript object>"
            ],
            "application/javascript": [
              "\n",
              "    async function download(id, filename, size) {\n",
              "      if (!google.colab.kernel.accessAllowed) {\n",
              "        return;\n",
              "      }\n",
              "      const div = document.createElement('div');\n",
              "      const label = document.createElement('label');\n",
              "      label.textContent = `Downloading \"${filename}\": `;\n",
              "      div.appendChild(label);\n",
              "      const progress = document.createElement('progress');\n",
              "      progress.max = size;\n",
              "      div.appendChild(progress);\n",
              "      document.body.appendChild(div);\n",
              "\n",
              "      const buffers = [];\n",
              "      let downloaded = 0;\n",
              "\n",
              "      const channel = await google.colab.kernel.comms.open(id);\n",
              "      // Send a message to notify the kernel that we're ready.\n",
              "      channel.send({})\n",
              "\n",
              "      for await (const message of channel.messages) {\n",
              "        // Send a message to notify the kernel that we're ready.\n",
              "        channel.send({})\n",
              "        if (message.buffers) {\n",
              "          for (const buffer of message.buffers) {\n",
              "            buffers.push(buffer);\n",
              "            downloaded += buffer.byteLength;\n",
              "            progress.value = downloaded;\n",
              "          }\n",
              "        }\n",
              "      }\n",
              "      const blob = new Blob(buffers, {type: 'application/binary'});\n",
              "      const a = document.createElement('a');\n",
              "      a.href = window.URL.createObjectURL(blob);\n",
              "      a.download = filename;\n",
              "      div.appendChild(a);\n",
              "      a.click();\n",
              "      div.remove();\n",
              "    }\n",
              "  "
            ]
          },
          "metadata": {}
        },
        {
          "output_type": "display_data",
          "data": {
            "text/plain": [
              "<IPython.core.display.Javascript object>"
            ],
            "application/javascript": [
              "download(\"download_aa0a20b8-e441-43ab-9b0d-612e077c1811\", \"DensityPatches.zip\", 1698)"
            ]
          },
          "metadata": {}
        }
      ],
      "source": [
        "# Colab-ready script to generate three PNG layers, convert them to 1-bit, rename as .prt, and zip\n",
        "# Run this directly in Google Colab\n",
        "\n",
        "from PIL import Image, ImageDraw\n",
        "import os, zipfile\n",
        "from google.colab import files\n",
        "\n",
        "# DPI and page size\n",
        "dpi = 600\n",
        "page_width_px, page_height_px = 7200, 7200  # square image size\n",
        "\n",
        "# Patch size and spacing\n",
        "patch_size_in = 1.245\n",
        "patch_size_px = int(patch_size_in * dpi)\n",
        "spacing_in = 1.5\n",
        "spacing_px = int(spacing_in * dpi)\n",
        "\n",
        "# Repeat spacing along length\n",
        "repeat_in = 2.0\n",
        "repeat_px = int(repeat_in * dpi)\n",
        "\n",
        "# Output directory (safe for Colab)\n",
        "output_dir = \"/content/DensityPatches\"\n",
        "os.makedirs(output_dir, exist_ok=True)\n",
        "\n",
        "# Function to draw layer\n",
        "def draw_layer(active_columns, filename):\n",
        "    img = Image.new(\"L\", (page_width_px, page_height_px), color=0)\n",
        "    draw = ImageDraw.Draw(img)\n",
        "\n",
        "    # Center grid horizontally\n",
        "    total_width = (len(active_columns) - 1) * spacing_px + patch_size_px\n",
        "    x_start = (page_width_px - total_width) // 2\n",
        "\n",
        "    # Compute total vertical height of repeated patches\n",
        "    num_repeats = page_height_px // repeat_px\n",
        "    total_height = (num_repeats - 1) * repeat_px + patch_size_px\n",
        "    y_start = (page_height_px - total_height) // 2\n",
        "\n",
        "    for i, active in enumerate(active_columns):\n",
        "        if active:\n",
        "            x = x_start + i * spacing_px\n",
        "            for j in range(num_repeats):\n",
        "                y = y_start + j * repeat_px\n",
        "                draw.rectangle([x, y, x + patch_size_px, y + patch_size_px], fill=255)\n",
        "\n",
        "    out_file = os.path.join(output_dir, filename)\n",
        "    img.save(out_file, dpi=(dpi, dpi))\n",
        "    print(f\"Saved {out_file}\")\n",
        "    return out_file\n",
        "\n",
        "# Define which columns are active for each image\n",
        "layer_1_cols = [0,1,1,1,1,0,0]\n",
        "layer_2_cols = [1,1,0,1,0,0,1]\n",
        "layer_3_cols = [0,0,0,1,1,1,1]\n",
        "\n",
        "# Draw layers\n",
        "paths = []\n",
        "paths.append(draw_layer(layer_1_cols, \"layer_1.png\"))\n",
        "paths.append(draw_layer(layer_2_cols, \"layer_2.png\"))\n",
        "paths.append(draw_layer(layer_3_cols, \"layer_3.png\"))\n",
        "\n",
        "# Convert PNGs to 1-bit, save as PNGs, then rename to .prt\n",
        "prt_files = []\n",
        "for i, p in enumerate(paths, start=1):\n",
        "    img = Image.open(p).convert(\"1\")  # 1-bit per pixel\n",
        "    tmp_png = os.path.join(output_dir, f\"{i}.png\")\n",
        "    img.save(tmp_png)\n",
        "    prt_name = os.path.join(output_dir, f\"{i}.prt\")\n",
        "    os.replace(tmp_png, prt_name)  # atomic rename if possible\n",
        "    print(f\"Saved {prt_name}\")\n",
        "    prt_files.append(prt_name)\n",
        "\n",
        "# Simple verification (opens by content signature, not extension)\n",
        "for f in prt_files:\n",
        "    try:\n",
        "        with Image.open(f) as im:\n",
        "            im.load()\n",
        "            assert im.mode in (\"1\", \"L\"), f\"Unexpected mode: {im.mode}\"\n",
        "    except Exception as e:\n",
        "        print(f\"WARNING: Could not verify {f}: {e}\")\n",
        "\n",
        "# Zip the .prt files\n",
        "zip_path = \"/content/DensityPatches.zip\"\n",
        "with zipfile.ZipFile(zip_path, 'w', compression=zipfile.ZIP_DEFLATED) as zipf:\n",
        "    for f in prt_files:\n",
        "        zipf.write(f, os.path.basename(f))\n",
        "\n",
        "print(f\"Created zip archive at {zip_path}\")\n",
        "\n",
        "# Offer zip file for download\n",
        "files.download(zip_path)\n"
      ]
    }
  ]
}